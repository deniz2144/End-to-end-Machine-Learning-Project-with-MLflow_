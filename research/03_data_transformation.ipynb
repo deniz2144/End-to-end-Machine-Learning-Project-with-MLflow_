{
 "cells": [
  {
   "cell_type": "code",
   "execution_count": 35,
   "id": "d90cef4c",
   "metadata": {},
   "outputs": [],
   "source": [
    "import os"
   ]
  },
  {
   "cell_type": "code",
   "execution_count": 36,
   "id": "9eddbf2a",
   "metadata": {},
   "outputs": [
    {
     "data": {
      "text/plain": [
       "'c:\\\\Users'"
      ]
     },
     "execution_count": 36,
     "metadata": {},
     "output_type": "execute_result"
    }
   ],
   "source": [
    "%pwd"
   ]
  },
  {
   "cell_type": "code",
   "execution_count": 37,
   "id": "d2406191",
   "metadata": {},
   "outputs": [],
   "source": [
    "os.chdir(\"../\")"
   ]
  },
  {
   "cell_type": "code",
   "execution_count": 38,
   "id": "d2429427",
   "metadata": {},
   "outputs": [],
   "source": [
    "from dataclasses import dataclass\n",
    "from pathlib import Path\n",
    "\n",
    "\n",
    "@dataclass(frozen=True)\n",
    "class DataTransformationConfig:\n",
    "    root_dir: Path\n",
    "    data_path: Path"
   ]
  },
  {
   "cell_type": "code",
   "execution_count": 39,
   "id": "e2163803",
   "metadata": {},
   "outputs": [],
   "source": [
    "from mlProject.constants import *\n",
    "from mlProject.utils.common import read_yaml, create_directories"
   ]
  },
  {
   "cell_type": "code",
   "execution_count": 40,
   "id": "6716f2af",
   "metadata": {},
   "outputs": [],
   "source": [
    "class ConfigurationManager:\n",
    "    def __init__(\n",
    "        self,\n",
    "        config_filepath = CONFIG_FILE_PATH,\n",
    "        params_filepath = PARAMS_FILE_PATH,\n",
    "        schema_filepath = SCHEMA_FILE_PATH):\n",
    "\n",
    "        self.config = read_yaml(config_filepath)\n",
    "        self.params = read_yaml(params_filepath)\n",
    "        self.schema = read_yaml(schema_filepath)\n",
    "\n",
    "        create_directories([self.config.artifacts_root])\n",
    "\n",
    "\n",
    "    \n",
    "    def get_data_transformation_config(self) -> DataTransformationConfig:\n",
    "        config = self.config.data_transformation\n",
    "\n",
    "        create_directories([config.root_dir])\n",
    "\n",
    "        data_transformation_config = DataTransformationConfig(\n",
    "            root_dir=config.root_dir,\n",
    "            data_path=config.data_path,\n",
    "        )\n",
    "\n",
    "        return data_transformation_config"
   ]
  },
  {
   "cell_type": "code",
   "execution_count": 41,
   "id": "6cf79bf5",
   "metadata": {},
   "outputs": [],
   "source": [
    "import os\n",
    "from mlProject import logger\n",
    "from sklearn.model_selection import train_test_split\n",
    "import pandas as pd"
   ]
  },
  {
   "cell_type": "code",
   "execution_count": 42,
   "id": "6631d2f1",
   "metadata": {},
   "outputs": [],
   "source": [
    "class DataTransformation:\n",
    "    def __init__(self, config: DataTransformationConfig):\n",
    "        self.config = config\n",
    "\n",
    "    \n",
    "    ## Note: You can add different data transformation techniques such as Scaler, PCA and all\n",
    "    #You can perform all kinds of EDA in ML cycle here before passing this data to the model\n",
    "\n",
    "    # I am only adding train_test_spliting cz this data is already cleaned up\n",
    "\n",
    "\n",
    "    def train_test_spliting(self):\n",
    "        data = pd.read_csv(self.config.data_path)\n",
    "\n",
    "        # Split the data into training and test sets. (0.75, 0.25) split.\n",
    "        train, test = train_test_split(data)\n",
    "\n",
    "        train.to_csv(os.path.join(self.config.root_dir, \"train.csv\"),index = False)\n",
    "        test.to_csv(os.path.join(self.config.root_dir, \"test.csv\"),index = False)\n",
    "\n",
    "        logger.info(\"Splited data into training and test sets\")\n",
    "        logger.info(train.shape)\n",
    "        logger.info(test.shape)\n",
    "\n",
    "        print(train.shape)\n",
    "        print(test.shape)\n",
    "        "
   ]
  },
  {
   "cell_type": "code",
   "execution_count": 43,
   "id": "2a11fa37",
   "metadata": {},
   "outputs": [
    {
     "name": "stdout",
     "output_type": "stream",
     "text": [
      "Unexpected exception formatting exception. Falling back to standard exception\n"
     ]
    },
    {
     "name": "stderr",
     "output_type": "stream",
     "text": [
      "Traceback (most recent call last):\n",
      "  File \"C:\\Users\\dunlu\\AppData\\Roaming\\Python\\Python310\\site-packages\\IPython\\core\\interactiveshell.py\", line 3579, in run_code\n",
      "    exec(code_obj, self.user_global_ns, self.user_ns)\n",
      "  File \"C:\\Users\\dunlu\\AppData\\Local\\Temp\\ipykernel_3004\\685957236.py\", line 12, in <module>\n",
      "    raise e\n",
      "  File \"C:\\Users\\dunlu\\AppData\\Local\\Temp\\ipykernel_3004\\685957236.py\", line 3, in <module>\n",
      "    config = ConfigurationManager(\n",
      "  File \"C:\\Users\\dunlu\\AppData\\Local\\Temp\\ipykernel_3004\\2464809692.py\", line 8, in __init__\n",
      "    self.config = read_yaml(config_filepath)\n",
      "  File \"c:\\Users\\dunlu\\anaconda3\\envs\\mlproj\\lib\\site-packages\\ensure\\main.py\", line 845, in __call__\n",
      "    raise EnsureError(msg.format(\n",
      "ensure.main.EnsureError: Argument path_to_yaml of type <class 'str'> to <function read_yaml at 0x00000294793C8CA0> does not match annotation type <class 'pathlib.Path'>\n",
      "\n",
      "During handling of the above exception, another exception occurred:\n",
      "\n",
      "Traceback (most recent call last):\n",
      "  File \"C:\\Users\\dunlu\\AppData\\Roaming\\Python\\Python310\\site-packages\\IPython\\core\\interactiveshell.py\", line 2170, in showtraceback\n",
      "    stb = self.InteractiveTB.structured_traceback(\n",
      "  File \"C:\\Users\\dunlu\\AppData\\Roaming\\Python\\Python310\\site-packages\\IPython\\core\\ultratb.py\", line 1457, in structured_traceback\n",
      "    return FormattedTB.structured_traceback(\n",
      "  File \"C:\\Users\\dunlu\\AppData\\Roaming\\Python\\Python310\\site-packages\\IPython\\core\\ultratb.py\", line 1348, in structured_traceback\n",
      "    return VerboseTB.structured_traceback(\n",
      "  File \"C:\\Users\\dunlu\\AppData\\Roaming\\Python\\Python310\\site-packages\\IPython\\core\\ultratb.py\", line 1195, in structured_traceback\n",
      "    formatted_exception = self.format_exception_as_a_whole(etype, evalue, etb, number_of_lines_of_context,\n",
      "  File \"C:\\Users\\dunlu\\AppData\\Roaming\\Python\\Python310\\site-packages\\IPython\\core\\ultratb.py\", line 1110, in format_exception_as_a_whole\n",
      "    frames.append(self.format_record(record))\n",
      "  File \"C:\\Users\\dunlu\\AppData\\Roaming\\Python\\Python310\\site-packages\\IPython\\core\\ultratb.py\", line 992, in format_record\n",
      "    frame_info.lines, Colors, self.has_colors, lvals\n",
      "  File \"C:\\Users\\dunlu\\AppData\\Roaming\\Python\\Python310\\site-packages\\IPython\\core\\ultratb.py\", line 804, in lines\n",
      "    return self._sd.lines\n",
      "  File \"C:\\Users\\dunlu\\AppData\\Roaming\\Python\\Python310\\site-packages\\stack_data\\utils.py\", line 145, in cached_property_wrapper\n",
      "    value = obj.__dict__[self.func.__name__] = self.func(obj)\n",
      "  File \"C:\\Users\\dunlu\\AppData\\Roaming\\Python\\Python310\\site-packages\\stack_data\\core.py\", line 734, in lines\n",
      "    pieces = self.included_pieces\n",
      "  File \"C:\\Users\\dunlu\\AppData\\Roaming\\Python\\Python310\\site-packages\\stack_data\\utils.py\", line 145, in cached_property_wrapper\n",
      "    value = obj.__dict__[self.func.__name__] = self.func(obj)\n",
      "  File \"C:\\Users\\dunlu\\AppData\\Roaming\\Python\\Python310\\site-packages\\stack_data\\core.py\", line 677, in included_pieces\n",
      "    scope_pieces = self.scope_pieces\n",
      "  File \"C:\\Users\\dunlu\\AppData\\Roaming\\Python\\Python310\\site-packages\\stack_data\\utils.py\", line 145, in cached_property_wrapper\n",
      "    value = obj.__dict__[self.func.__name__] = self.func(obj)\n",
      "  File \"C:\\Users\\dunlu\\AppData\\Roaming\\Python\\Python310\\site-packages\\stack_data\\core.py\", line 614, in scope_pieces\n",
      "    scope_start, scope_end = self.source.line_range(self.scope)\n",
      "  File \"C:\\Users\\dunlu\\AppData\\Roaming\\Python\\Python310\\site-packages\\stack_data\\core.py\", line 178, in line_range\n",
      "    return line_range(self.asttext(), node)\n",
      "AttributeError: 'Source' object has no attribute 'asttext'\n"
     ]
    }
   ],
   "source": [
    "try:\n",
    "    # ConfigurationManager'a doğru dosya yollarını burada belirtiyoruz\n",
    "    config = ConfigurationManager(\n",
    "        config_filepath=\"config/config.yaml\",\n",
    "        params_filepath=\"params.yaml\",\n",
    "        schema_filepath=\"schema.yaml\"\n",
    "    )\n",
    "    data_transformation_config = config.get_data_transformation_config()\n",
    "    data_transformation = DataTransformation(config=data_transformation_config)\n",
    "    data_transformation.train_test_spliting()\n",
    "except Exception as e:\n",
    "    raise e"
   ]
  },
  {
   "cell_type": "code",
   "execution_count": null,
   "id": "78ae19ec",
   "metadata": {},
   "outputs": [
    {
     "name": "stdout",
     "output_type": "stream",
     "text": [
      "Unexpected exception formatting exception. Falling back to standard exception\n"
     ]
    },
    {
     "name": "stderr",
     "output_type": "stream",
     "text": [
      "Traceback (most recent call last):\n",
      "  File \"C:\\Users\\dunlu\\AppData\\Roaming\\Python\\Python310\\site-packages\\IPython\\core\\interactiveshell.py\", line 3579, in run_code\n",
      "    exec(code_obj, self.user_global_ns, self.user_ns)\n",
      "  File \"C:\\Users\\dunlu\\AppData\\Local\\Temp\\ipykernel_3004\\3628278022.py\", line 1, in <module>\n",
      "    print(train.shape)\n",
      "NameError: name 'train' is not defined\n",
      "\n",
      "During handling of the above exception, another exception occurred:\n",
      "\n",
      "Traceback (most recent call last):\n",
      "  File \"C:\\Users\\dunlu\\AppData\\Roaming\\Python\\Python310\\site-packages\\IPython\\core\\interactiveshell.py\", line 2170, in showtraceback\n",
      "    stb = self.InteractiveTB.structured_traceback(\n",
      "  File \"C:\\Users\\dunlu\\AppData\\Roaming\\Python\\Python310\\site-packages\\IPython\\core\\ultratb.py\", line 1457, in structured_traceback\n",
      "    return FormattedTB.structured_traceback(\n",
      "  File \"C:\\Users\\dunlu\\AppData\\Roaming\\Python\\Python310\\site-packages\\IPython\\core\\ultratb.py\", line 1348, in structured_traceback\n",
      "    return VerboseTB.structured_traceback(\n",
      "  File \"C:\\Users\\dunlu\\AppData\\Roaming\\Python\\Python310\\site-packages\\IPython\\core\\ultratb.py\", line 1195, in structured_traceback\n",
      "    formatted_exception = self.format_exception_as_a_whole(etype, evalue, etb, number_of_lines_of_context,\n",
      "  File \"C:\\Users\\dunlu\\AppData\\Roaming\\Python\\Python310\\site-packages\\IPython\\core\\ultratb.py\", line 1110, in format_exception_as_a_whole\n",
      "    frames.append(self.format_record(record))\n",
      "  File \"C:\\Users\\dunlu\\AppData\\Roaming\\Python\\Python310\\site-packages\\IPython\\core\\ultratb.py\", line 992, in format_record\n",
      "    frame_info.lines, Colors, self.has_colors, lvals\n",
      "  File \"C:\\Users\\dunlu\\AppData\\Roaming\\Python\\Python310\\site-packages\\IPython\\core\\ultratb.py\", line 804, in lines\n",
      "    return self._sd.lines\n",
      "  File \"C:\\Users\\dunlu\\AppData\\Roaming\\Python\\Python310\\site-packages\\stack_data\\utils.py\", line 145, in cached_property_wrapper\n",
      "    value = obj.__dict__[self.func.__name__] = self.func(obj)\n",
      "  File \"C:\\Users\\dunlu\\AppData\\Roaming\\Python\\Python310\\site-packages\\stack_data\\core.py\", line 734, in lines\n",
      "    pieces = self.included_pieces\n",
      "  File \"C:\\Users\\dunlu\\AppData\\Roaming\\Python\\Python310\\site-packages\\stack_data\\utils.py\", line 145, in cached_property_wrapper\n",
      "    value = obj.__dict__[self.func.__name__] = self.func(obj)\n",
      "  File \"C:\\Users\\dunlu\\AppData\\Roaming\\Python\\Python310\\site-packages\\stack_data\\core.py\", line 677, in included_pieces\n",
      "    scope_pieces = self.scope_pieces\n",
      "  File \"C:\\Users\\dunlu\\AppData\\Roaming\\Python\\Python310\\site-packages\\stack_data\\utils.py\", line 145, in cached_property_wrapper\n",
      "    value = obj.__dict__[self.func.__name__] = self.func(obj)\n",
      "  File \"C:\\Users\\dunlu\\AppData\\Roaming\\Python\\Python310\\site-packages\\stack_data\\core.py\", line 614, in scope_pieces\n",
      "    scope_start, scope_end = self.source.line_range(self.scope)\n",
      "  File \"C:\\Users\\dunlu\\AppData\\Roaming\\Python\\Python310\\site-packages\\stack_data\\core.py\", line 178, in line_range\n",
      "    return line_range(self.asttext(), node)\n",
      "AttributeError: 'Source' object has no attribute 'asttext'\n"
     ]
    }
   ],
   "source": [
    "print(train.shape)"
   ]
  },
  {
   "cell_type": "code",
   "execution_count": null,
   "id": "5a9534b4",
   "metadata": {},
   "outputs": [
    {
     "name": "stdout",
     "output_type": "stream",
     "text": [
      "--- TEST: Test sınıfları başarıyla tanımlandı. Şimdi alttaki hücreyi çalıştırabilirsiniz. ---\n"
     ]
    }
   ],
   "source": [
    "# Gerekli bütün importları ve tanımlamaları yapalım\n",
    "import os\n",
    "from pathlib import Path\n",
    "from dataclasses import dataclass\n",
    "from mlProject.utils.common import read_yaml, create_directories\n",
    "from mlProject.constants import *\n",
    "\n",
    "# Emin olmak için ilgili Data Class'ı burada yeniden tanımlıyoruz\n",
    "@dataclass(frozen=True)\n",
    "class DataTransformationConfig:\n",
    "    root_dir: Path\n",
    "    data_path: Path\n",
    "\n",
    "# ConfigurationManager'ı burada, not defterinin içinde, doğru haliyle yeniden tanımlıyoruz.\n",
    "# Buna geçici olarak TestConfigurationManager adını verelim.\n",
    "class TestConfigurationManager:\n",
    "    def __init__(\n",
    "        self,\n",
    "        config_filepath=\"config/config.yaml\",\n",
    "        params_filepath=\"params.yaml\",\n",
    "        schema_filepath=\"schema.yaml\"):\n",
    "        \n",
    "        print(\"--- TEST ADIM 1: TestConfigurationManager başlatılıyor... ---\")\n",
    "        print(f\"--- Okunacak config dosyası: {config_filepath} ---\")\n",
    "        \n",
    "        self.config = read_yaml(Path(config_filepath))\n",
    "        self.params = read_yaml(Path(params_filepath))\n",
    "        self.schema = read_yaml(Path(schema_filepath))\n",
    "        \n",
    "        print(\"--- TEST ADIM 2: YAML dosyaları Path nesnesi olarak başarıyla okundu. ---\")\n",
    "        create_directories([self.config.artifacts_root])\n",
    "\n",
    "    def get_data_transformation_config(self) -> DataTransformationConfig:\n",
    "        config = self.config.data_transformation\n",
    "        create_directories([config.root_dir])\n",
    "        data_transformation_config = DataTransformationConfig(\n",
    "            root_dir=config.root_dir,\n",
    "            data_path=config.data_path,\n",
    "        )\n",
    "        return data_transformation_config\n",
    "\n",
    "print(\"--- TEST: Test sınıfları başarıyla tanımlandı. Şimdi alttaki hücreyi çalıştırabilirsiniz. ---\")"
   ]
  },
  {
   "cell_type": "code",
   "execution_count": null,
   "id": "fd52321d",
   "metadata": {},
   "outputs": [
    {
     "name": "stdout",
     "output_type": "stream",
     "text": [
      "--- TEST: Test sınıfları başarıyla tanımlandı. Şimdi alttaki hücreyi çalıştırabilirsiniz. ---\n"
     ]
    }
   ],
   "source": [
    "# Gerekli bütün importları ve tanımlamaları yapalım\n",
    "import os\n",
    "from pathlib import Path\n",
    "from dataclasses import dataclass\n",
    "from mlProject.utils.common import read_yaml, create_directories\n",
    "from mlProject.constants import *\n",
    "\n",
    "# Emin olmak için ilgili Data Class'ı burada yeniden tanımlıyoruz\n",
    "@dataclass(frozen=True)\n",
    "class DataTransformationConfig:\n",
    "    root_dir: Path\n",
    "    data_path: Path\n",
    "\n",
    "# ConfigurationManager'ı burada, not defterinin içinde, doğru haliyle yeniden tanımlıyoruz.\n",
    "# Buna geçici olarak TestConfigurationManager adını verelim.\n",
    "class TestConfigurationManager:\n",
    "    def __init__(\n",
    "        self,\n",
    "        config_filepath=\"config/config.yaml\",\n",
    "        params_filepath=\"params.yaml\",\n",
    "        schema_filepath=\"schema.yaml\"):\n",
    "        \n",
    "        print(\"--- TEST ADIM 1: TestConfigurationManager başlatılıyor... ---\")\n",
    "        print(f\"--- Okunacak config dosyası: {config_filepath} ---\")\n",
    "        \n",
    "        self.config = read_yaml(Path(config_filepath))\n",
    "        self.params = read_yaml(Path(params_filepath))\n",
    "        self.schema = read_yaml(Path(schema_filepath))\n",
    "        \n",
    "        print(\"--- TEST ADIM 2: YAML dosyaları Path nesnesi olarak başarıyla okundu. ---\")\n",
    "        create_directories([self.config.artifacts_root])\n",
    "\n",
    "    def get_data_transformation_config(self) -> DataTransformationConfig:\n",
    "        config = self.config.data_transformation\n",
    "        create_directories([config.root_dir])\n",
    "        data_transformation_config = DataTransformationConfig(\n",
    "            root_dir=config.root_dir,\n",
    "            data_path=config.data_path,\n",
    "        )\n",
    "        return data_transformation_config\n",
    "\n",
    "print(\"--- TEST: Test sınıfları başarıyla tanımlandı. Şimdi alttaki hücreyi çalıştırabilirsiniz. ---\")"
   ]
  },
  {
   "cell_type": "code",
   "execution_count": null,
   "id": "55079469",
   "metadata": {},
   "outputs": [
    {
     "name": "stdout",
     "output_type": "stream",
     "text": [
      "--- TEST ADIM 1: TestConfigurationManager başlatılıyor... ---\n",
      "--- Okunacak config dosyası: config/config.yaml ---\n",
      "\n",
      ">>> TEST BAŞARISIZ! Hata hala devam ediyor. Lütfen bu hücrenin çıktısını gönderin. <<<\n",
      "Unexpected exception formatting exception. Falling back to standard exception\n"
     ]
    },
    {
     "name": "stderr",
     "output_type": "stream",
     "text": [
      "Traceback (most recent call last):\n",
      "  File \"C:\\Users\\dunlu\\AppData\\Roaming\\Python\\Python310\\site-packages\\IPython\\core\\interactiveshell.py\", line 3579, in run_code\n",
      "    exec(code_obj, self.user_global_ns, self.user_ns)\n",
      "  File \"C:\\Users\\dunlu\\AppData\\Local\\Temp\\ipykernel_3004\\1614791879.py\", line 14, in <module>\n",
      "    raise e\n",
      "  File \"C:\\Users\\dunlu\\AppData\\Local\\Temp\\ipykernel_3004\\1614791879.py\", line 3, in <module>\n",
      "    config = TestConfigurationManager() # Yeni test sınıfımızı kullanıyoruz\n",
      "  File \"C:\\Users\\dunlu\\AppData\\Local\\Temp\\ipykernel_3004\\3846286439.py\", line 26, in __init__\n",
      "    self.config = read_yaml(Path(config_filepath))\n",
      "  File \"c:\\Users\\dunlu\\anaconda3\\envs\\mlproj\\lib\\site-packages\\ensure\\main.py\", line 849, in __call__\n",
      "    return_val = self.f(*args, **kwargs)\n",
      "  File \"c:\\users\\dunlu\\end-to-end-machine-learning-project-with-mlflow\\src\\mlProject\\utils\\common.py\", line 34, in read_yaml\n",
      "    raise e\n",
      "  File \"c:\\users\\dunlu\\end-to-end-machine-learning-project-with-mlflow\\src\\mlProject\\utils\\common.py\", line 27, in read_yaml\n",
      "    with open(path_to_yaml) as yaml_file:\n",
      "FileNotFoundError: [Errno 2] No such file or directory: 'config\\\\config.yaml'\n",
      "\n",
      "During handling of the above exception, another exception occurred:\n",
      "\n",
      "Traceback (most recent call last):\n",
      "  File \"C:\\Users\\dunlu\\AppData\\Roaming\\Python\\Python310\\site-packages\\IPython\\core\\interactiveshell.py\", line 2170, in showtraceback\n",
      "    stb = self.InteractiveTB.structured_traceback(\n",
      "  File \"C:\\Users\\dunlu\\AppData\\Roaming\\Python\\Python310\\site-packages\\IPython\\core\\ultratb.py\", line 1457, in structured_traceback\n",
      "    return FormattedTB.structured_traceback(\n",
      "  File \"C:\\Users\\dunlu\\AppData\\Roaming\\Python\\Python310\\site-packages\\IPython\\core\\ultratb.py\", line 1348, in structured_traceback\n",
      "    return VerboseTB.structured_traceback(\n",
      "  File \"C:\\Users\\dunlu\\AppData\\Roaming\\Python\\Python310\\site-packages\\IPython\\core\\ultratb.py\", line 1195, in structured_traceback\n",
      "    formatted_exception = self.format_exception_as_a_whole(etype, evalue, etb, number_of_lines_of_context,\n",
      "  File \"C:\\Users\\dunlu\\AppData\\Roaming\\Python\\Python310\\site-packages\\IPython\\core\\ultratb.py\", line 1110, in format_exception_as_a_whole\n",
      "    frames.append(self.format_record(record))\n",
      "  File \"C:\\Users\\dunlu\\AppData\\Roaming\\Python\\Python310\\site-packages\\IPython\\core\\ultratb.py\", line 992, in format_record\n",
      "    frame_info.lines, Colors, self.has_colors, lvals\n",
      "  File \"C:\\Users\\dunlu\\AppData\\Roaming\\Python\\Python310\\site-packages\\IPython\\core\\ultratb.py\", line 804, in lines\n",
      "    return self._sd.lines\n",
      "  File \"C:\\Users\\dunlu\\AppData\\Roaming\\Python\\Python310\\site-packages\\stack_data\\utils.py\", line 145, in cached_property_wrapper\n",
      "    value = obj.__dict__[self.func.__name__] = self.func(obj)\n",
      "  File \"C:\\Users\\dunlu\\AppData\\Roaming\\Python\\Python310\\site-packages\\stack_data\\core.py\", line 734, in lines\n",
      "    pieces = self.included_pieces\n",
      "  File \"C:\\Users\\dunlu\\AppData\\Roaming\\Python\\Python310\\site-packages\\stack_data\\utils.py\", line 145, in cached_property_wrapper\n",
      "    value = obj.__dict__[self.func.__name__] = self.func(obj)\n",
      "  File \"C:\\Users\\dunlu\\AppData\\Roaming\\Python\\Python310\\site-packages\\stack_data\\core.py\", line 677, in included_pieces\n",
      "    scope_pieces = self.scope_pieces\n",
      "  File \"C:\\Users\\dunlu\\AppData\\Roaming\\Python\\Python310\\site-packages\\stack_data\\utils.py\", line 145, in cached_property_wrapper\n",
      "    value = obj.__dict__[self.func.__name__] = self.func(obj)\n",
      "  File \"C:\\Users\\dunlu\\AppData\\Roaming\\Python\\Python310\\site-packages\\stack_data\\core.py\", line 614, in scope_pieces\n",
      "    scope_start, scope_end = self.source.line_range(self.scope)\n",
      "  File \"C:\\Users\\dunlu\\AppData\\Roaming\\Python\\Python310\\site-packages\\stack_data\\core.py\", line 178, in line_range\n",
      "    return line_range(self.asttext(), node)\n",
      "AttributeError: 'Source' object has no attribute 'asttext'\n"
     ]
    }
   ],
   "source": [
    "try:\n",
    "    # config = ConfigurationManager() # Eski satırı kullanmıyoruz\n",
    "    config = TestConfigurationManager() # Yeni test sınıfımızı kullanıyoruz\n",
    "    \n",
    "    print(\"--- TEST ADIM 3: TestConfigurationManager nesnesi başarıyla oluşturuldu. ---\")\n",
    "    \n",
    "    data_transformation_config = config.get_data_transformation_config()\n",
    "    print(\"--- TEST ADIM 4: Veri dönüştürme konfigürasyonu başarıyla alındı. ---\")\n",
    "    \n",
    "    print(\"\\n>>> TEST BAŞARILI! Sorun gerçekten de Jupyter'in eski dosyayı hafızasında tutmasıymış. <<<\")\n",
    "\n",
    "except Exception as e:\n",
    "    print(\"\\n>>> TEST BAŞARISIZ! Hata hala devam ediyor. Lütfen bu hücrenin çıktısını gönderin. <<<\")\n",
    "    raise e"
   ]
  },
  {
   "cell_type": "code",
   "execution_count": null,
   "id": "01144e1e",
   "metadata": {},
   "outputs": [],
   "source": []
  },
  {
   "cell_type": "code",
   "execution_count": null,
   "id": "16b474c2",
   "metadata": {},
   "outputs": [],
   "source": []
  }
 ],
 "metadata": {
  "kernelspec": {
   "display_name": "mlproj",
   "language": "python",
   "name": "python3"
  },
  "language_info": {
   "codemirror_mode": {
    "name": "ipython",
    "version": 3
   },
   "file_extension": ".py",
   "mimetype": "text/x-python",
   "name": "python",
   "nbconvert_exporter": "python",
   "pygments_lexer": "ipython3",
   "version": "3.10.18"
  }
 },
 "nbformat": 4,
 "nbformat_minor": 5
}
